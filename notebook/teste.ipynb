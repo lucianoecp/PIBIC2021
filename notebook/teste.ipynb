{
 "cells": [
  {
   "cell_type": "code",
   "execution_count": 1,
   "source": [
    "from __future__ import division\r\n",
    "\r\n",
    "import numpy as np\r\n",
    "import pandas as pd\r\n",
    "import matplotlib.pyplot as plt\r\n",
    "\r\n",
    "import pyomo.environ as pyo, numpy as np, pandas as pd\r\n",
    "from pyomo.environ import *\r\n",
    "from pyomo.opt import SolverFactory\r\n",
    "\r\n",
    "\r\n",
    "geradores = pd.read_excel('input.xlsx', sheet_name='geradores')\r\n",
    "demanda   = pd.read_excel('input.xlsx', sheet_name='demanda')\r\n"
   ],
   "outputs": [],
   "metadata": {}
  },
  {
   "cell_type": "code",
   "execution_count": 2,
   "source": [
    "demanda"
   ],
   "outputs": [
    {
     "output_type": "execute_result",
     "data": {
      "text/plain": [
       "   t  dem\n",
       "0  0  500\n",
       "1  1  355\n",
       "2  2  480\n",
       "3  3  650\n",
       "4  4  758\n",
       "5  5  791\n",
       "6  6  885"
      ],
      "text/html": [
       "<div>\n",
       "<style scoped>\n",
       "    .dataframe tbody tr th:only-of-type {\n",
       "        vertical-align: middle;\n",
       "    }\n",
       "\n",
       "    .dataframe tbody tr th {\n",
       "        vertical-align: top;\n",
       "    }\n",
       "\n",
       "    .dataframe thead th {\n",
       "        text-align: right;\n",
       "    }\n",
       "</style>\n",
       "<table border=\"1\" class=\"dataframe\">\n",
       "  <thead>\n",
       "    <tr style=\"text-align: right;\">\n",
       "      <th></th>\n",
       "      <th>t</th>\n",
       "      <th>dem</th>\n",
       "    </tr>\n",
       "  </thead>\n",
       "  <tbody>\n",
       "    <tr>\n",
       "      <th>0</th>\n",
       "      <td>0</td>\n",
       "      <td>500</td>\n",
       "    </tr>\n",
       "    <tr>\n",
       "      <th>1</th>\n",
       "      <td>1</td>\n",
       "      <td>355</td>\n",
       "    </tr>\n",
       "    <tr>\n",
       "      <th>2</th>\n",
       "      <td>2</td>\n",
       "      <td>480</td>\n",
       "    </tr>\n",
       "    <tr>\n",
       "      <th>3</th>\n",
       "      <td>3</td>\n",
       "      <td>650</td>\n",
       "    </tr>\n",
       "    <tr>\n",
       "      <th>4</th>\n",
       "      <td>4</td>\n",
       "      <td>758</td>\n",
       "    </tr>\n",
       "    <tr>\n",
       "      <th>5</th>\n",
       "      <td>5</td>\n",
       "      <td>791</td>\n",
       "    </tr>\n",
       "    <tr>\n",
       "      <th>6</th>\n",
       "      <td>6</td>\n",
       "      <td>885</td>\n",
       "    </tr>\n",
       "  </tbody>\n",
       "</table>\n",
       "</div>"
      ]
     },
     "metadata": {},
     "execution_count": 2
    }
   ],
   "metadata": {}
  },
  {
   "cell_type": "code",
   "execution_count": 3,
   "source": [
    "# Entrada de dados:\r\n",
    "#\r\n",
    "# Geradores\r\n",
    "a = geradores.A.values\r\n",
    "b = geradores.B.values\r\n",
    "c = geradores.C.values\r\n",
    "cos = geradores.Custo.values\r\n",
    "pmin = geradores.Pmin.values\r\n",
    "pmax = geradores.Pmax.values\r\n",
    "ur = geradores.UR.values\r\n",
    "dr = geradores.DR.values\r\n",
    "#cos = geradores.Custo.to_list()\r\n",
    "#pmin = geradores.Pmin.to_list()\r\n",
    "#pmax = geradores.Pmax.to_list()\r\n",
    "#ur = geradores.UR.to_list()\r\n",
    "#dr = geradores.DR.to_list()\r\n",
    "\r\n",
    "# Demanda\r\n",
    "dem = demanda.dem.values\r\n",
    "t = demanda.t.to_list()\r\n",
    "\r\n",
    "Ng = len(geradores)\r\n",
    "Nd = len(dem)\r\n",
    "Nd"
   ],
   "outputs": [
    {
     "output_type": "execute_result",
     "data": {
      "text/plain": [
       "7"
      ]
     },
     "metadata": {},
     "execution_count": 3
    }
   ],
   "metadata": {}
  },
  {
   "cell_type": "code",
   "execution_count": 4,
   "source": [
    "model = pyo.ConcreteModel()\r\n",
    "\r\n",
    "model.Pg = pyo.Var(range(Ng), range(Nd), bounds=(0,None))\r\n",
    "model.Pd = pyo.Var(range(Nd))\r\n",
    "Pg = model.Pg\r\n",
    "Pd = model.Pd"
   ],
   "outputs": [],
   "metadata": {}
  },
  {
   "cell_type": "code",
   "execution_count": 5,
   "source": [
    "#objetivo\r\n",
    "model.obj = pyo.Objective(expr= sum([a[g]*cos[g] \r\n",
    "                                    + b[g]*cos[g]*Pg[g,t] \r\n",
    "                                    + c[g]*cos[g]*Pg[g,t]*Pg[g,t] \r\n",
    "                                    for g in range(Ng) \r\n",
    "                                    for t in range(Nd)]),\r\n",
    "                                     sense=minimize)"
   ],
   "outputs": [],
   "metadata": {}
  },
  {
   "cell_type": "code",
   "execution_count": 6,
   "source": [
    "# balanco:\r\n",
    "model.balanco = ConstraintList()\r\n",
    "#sum_Pg = 0\r\n",
    "for t in range(Nd):\r\n",
    "    sum_Pg = sum(Pg[g,t] for g in range(Ng))\r\n",
    "    model.balanco.add(expr= sum_Pg == Pd[t])"
   ],
   "outputs": [],
   "metadata": {}
  },
  {
   "cell_type": "code",
   "execution_count": 7,
   "source": [
    "\"\"\"\r\n",
    "# limites geração:\r\n",
    "model.limger = pyo.ConstraintList()\r\n",
    "for g in range(Ng):\r\n",
    "    for t in range(Nd):\r\n",
    "        model.limger.add(inequality(pmin[g], Pg[g,t], pmax[g]))\r\n",
    "\"\"\""
   ],
   "outputs": [],
   "metadata": {}
  },
  {
   "cell_type": "code",
   "execution_count": 8,
   "source": [
    "opt = SolverFactory('couenne', executable='C:\\\\couenne\\\\bin\\\\couenne.exe')\r\n",
    "opt.solve(model)\r\n",
    "\r\n",
    "model.pprint()"
   ],
   "outputs": [
    {
     "output_type": "stream",
     "name": "stdout",
     "text": [
      "6 Set Declarations\n",
      "    Pd_index : Size=1, Index=None, Ordered=False\n",
      "        Key  : Dimen : Domain : Size : Members\n",
      "        None :     1 :    Any :    7 : {0, 1, 2, 3, 4, 5, 6}\n",
      "    Pg_index : Size=1, Index=None, Ordered=False\n",
      "        Key  : Dimen : Domain                : Size : Members\n",
      "        None :     2 : Pg_index_0*Pg_index_1 :   21 : {(0, 0), (0, 1), (0, 2), (0, 3), (0, 4), (0, 5), (0, 6), (1, 0), (1, 1), (1, 2), (1, 3), (1, 4), (1, 5), (1, 6), (2, 0), (2, 1), (2, 2), (2, 3), (2, 4), (2, 5), (2, 6)}\n",
      "    Pg_index_0 : Size=1, Index=None, Ordered=False\n",
      "        Key  : Dimen : Domain : Size : Members\n",
      "        None :     1 :    Any :    3 : {0, 1, 2}\n",
      "    Pg_index_1 : Size=1, Index=None, Ordered=False\n",
      "        Key  : Dimen : Domain : Size : Members\n",
      "        None :     1 :    Any :    7 : {0, 1, 2, 3, 4, 5, 6}\n",
      "    balanco_index : Size=1, Index=None, Ordered=Insertion\n",
      "        Key  : Dimen : Domain : Size : Members\n",
      "        None :     1 :    Any :    7 : {1, 2, 3, 4, 5, 6, 7}\n",
      "    limger_index : Size=1, Index=None, Ordered=Insertion\n",
      "        Key  : Dimen : Domain : Size : Members\n",
      "        None :     1 :    Any :   21 : {1, 2, 3, 4, 5, 6, 7, 8, 9, 10, 11, 12, 13, 14, 15, 16, 17, 18, 19, 20, 21}\n",
      "\n",
      "2 Var Declarations\n",
      "    Pd : Size=7, Index=Pd_index\n",
      "        Key : Lower : Value : Upper : Fixed : Stale : Domain\n",
      "          0 :  None : 300.0 :  None : False : False :  Reals\n",
      "          1 :  None : 300.0 :  None : False : False :  Reals\n",
      "          2 :  None : 300.0 :  None : False : False :  Reals\n",
      "          3 :  None : 300.0 :  None : False : False :  Reals\n",
      "          4 :  None : 300.0 :  None : False : False :  Reals\n",
      "          5 :  None : 300.0 :  None : False : False :  Reals\n",
      "          6 :  None : 300.0 :  None : False : False :  Reals\n",
      "    Pg : Size=21, Index=Pg_index\n",
      "        Key    : Lower : Value : Upper : Fixed : Stale : Domain\n",
      "        (0, 0) :     0 : 150.0 :  None : False : False :  Reals\n",
      "        (0, 1) :     0 : 150.0 :  None : False : False :  Reals\n",
      "        (0, 2) :     0 : 150.0 :  None : False : False :  Reals\n",
      "        (0, 3) :     0 : 150.0 :  None : False : False :  Reals\n",
      "        (0, 4) :     0 : 150.0 :  None : False : False :  Reals\n",
      "        (0, 5) :     0 : 150.0 :  None : False : False :  Reals\n",
      "        (0, 6) :     0 : 150.0 :  None : False : False :  Reals\n",
      "        (1, 0) :     0 : 100.0 :  None : False : False :  Reals\n",
      "        (1, 1) :     0 : 100.0 :  None : False : False :  Reals\n",
      "        (1, 2) :     0 : 100.0 :  None : False : False :  Reals\n",
      "        (1, 3) :     0 : 100.0 :  None : False : False :  Reals\n",
      "        (1, 4) :     0 : 100.0 :  None : False : False :  Reals\n",
      "        (1, 5) :     0 : 100.0 :  None : False : False :  Reals\n",
      "        (1, 6) :     0 : 100.0 :  None : False : False :  Reals\n",
      "        (2, 0) :     0 :  50.0 :  None : False : False :  Reals\n",
      "        (2, 1) :     0 :  50.0 :  None : False : False :  Reals\n",
      "        (2, 2) :     0 :  50.0 :  None : False : False :  Reals\n",
      "        (2, 3) :     0 :  50.0 :  None : False : False :  Reals\n",
      "        (2, 4) :     0 :  50.0 :  None : False : False :  Reals\n",
      "        (2, 5) :     0 :  50.0 :  None : False : False :  Reals\n",
      "        (2, 6) :     0 :  50.0 :  None : False : False :  Reals\n",
      "\n",
      "1 Objective Declarations\n",
      "    obj : Size=1, Index=None, Active=True\n",
      "        Key  : Active : Sense    : Expression\n",
      "        None :   True : minimize : 561.0 + 7.920000000000001*Pg[0,0] + 561.0 + 7.920000000000001*Pg[0,1] + 561.0 + 7.920000000000001*Pg[0,2] + 561.0 + 7.920000000000001*Pg[0,3] + 561.0 + 7.920000000000001*Pg[0,4] + 561.0 + 7.920000000000001*Pg[0,5] + 561.0 + 7.920000000000001*Pg[0,6] + 310.0 + 7.85*Pg[1,0] + 310.0 + 7.85*Pg[1,1] + 310.0 + 7.85*Pg[1,2] + 310.0 + 7.85*Pg[1,3] + 310.0 + 7.85*Pg[1,4] + 310.0 + 7.85*Pg[1,5] + 310.0 + 7.85*Pg[1,6] + 78.0 + 7.97*Pg[2,0] + 78.0 + 7.97*Pg[2,1] + 78.0 + 7.97*Pg[2,2] + 78.0 + 7.97*Pg[2,3] + 78.0 + 7.97*Pg[2,4] + 78.0 + 7.97*Pg[2,5] + 78.0 + 7.97*Pg[2,6]\n",
      "\n",
      "2 Constraint Declarations\n",
      "    balanco : Size=7, Index=balanco_index, Active=True\n",
      "        Key : Lower : Body                                : Upper : Active\n",
      "          1 :   0.0 : Pg[0,0] + Pg[1,0] + Pg[2,0] - Pd[0] :   0.0 :   True\n",
      "          2 :   0.0 : Pg[0,1] + Pg[1,1] + Pg[2,1] - Pd[1] :   0.0 :   True\n",
      "          3 :   0.0 : Pg[0,2] + Pg[1,2] + Pg[2,2] - Pd[2] :   0.0 :   True\n",
      "          4 :   0.0 : Pg[0,3] + Pg[1,3] + Pg[2,3] - Pd[3] :   0.0 :   True\n",
      "          5 :   0.0 : Pg[0,4] + Pg[1,4] + Pg[2,4] - Pd[4] :   0.0 :   True\n",
      "          6 :   0.0 : Pg[0,5] + Pg[1,5] + Pg[2,5] - Pd[5] :   0.0 :   True\n",
      "          7 :   0.0 : Pg[0,6] + Pg[1,6] + Pg[2,6] - Pd[6] :   0.0 :   True\n",
      "    limger : Size=21, Index=limger_index, Active=True\n",
      "        Key : Lower : Body    : Upper : Active\n",
      "          1 : 150.0 : Pg[0,0] : 600.0 :   True\n",
      "          2 : 150.0 : Pg[0,1] : 600.0 :   True\n",
      "          3 : 150.0 : Pg[0,2] : 600.0 :   True\n",
      "          4 : 150.0 : Pg[0,3] : 600.0 :   True\n",
      "          5 : 150.0 : Pg[0,4] : 600.0 :   True\n",
      "          6 : 150.0 : Pg[0,5] : 600.0 :   True\n",
      "          7 : 150.0 : Pg[0,6] : 600.0 :   True\n",
      "          8 : 100.0 : Pg[1,0] : 400.0 :   True\n",
      "          9 : 100.0 : Pg[1,1] : 400.0 :   True\n",
      "         10 : 100.0 : Pg[1,2] : 400.0 :   True\n",
      "         11 : 100.0 : Pg[1,3] : 400.0 :   True\n",
      "         12 : 100.0 : Pg[1,4] : 400.0 :   True\n",
      "         13 : 100.0 : Pg[1,5] : 400.0 :   True\n",
      "         14 : 100.0 : Pg[1,6] : 400.0 :   True\n",
      "         15 :  50.0 : Pg[2,0] : 200.0 :   True\n",
      "         16 :  50.0 : Pg[2,1] : 200.0 :   True\n",
      "         17 :  50.0 : Pg[2,2] : 200.0 :   True\n",
      "         18 :  50.0 : Pg[2,3] : 200.0 :   True\n",
      "         19 :  50.0 : Pg[2,4] : 200.0 :   True\n",
      "         20 :  50.0 : Pg[2,5] : 200.0 :   True\n",
      "         21 :  50.0 : Pg[2,6] : 200.0 :   True\n",
      "\n",
      "11 Declarations: Pg_index_0 Pg_index_1 Pg_index Pg Pd_index Pd obj balanco_index balanco limger_index limger\n"
     ]
    }
   ],
   "metadata": {}
  },
  {
   "cell_type": "code",
   "execution_count": 11,
   "source": [
    "for g in range(Ng):\r\n",
    "    for t in range(Nd):\r\n",
    "        print(f\"Pg[{g},{t}] = {pyo.value(Pg[g,t])}\")\r\n"
   ],
   "outputs": [
    {
     "output_type": "stream",
     "name": "stdout",
     "text": [
      "Pg[0,0] = 150.0\n",
      "Pg[0,1] = 150.0\n",
      "Pg[0,2] = 150.0\n",
      "Pg[0,3] = 150.0\n",
      "Pg[0,4] = 150.0\n",
      "Pg[0,5] = 150.0\n",
      "Pg[0,6] = 150.0\n",
      "Pg[1,0] = 100.0\n",
      "Pg[1,1] = 100.0\n",
      "Pg[1,2] = 100.0\n",
      "Pg[1,3] = 100.0\n",
      "Pg[1,4] = 100.0\n",
      "Pg[1,5] = 100.0\n",
      "Pg[1,6] = 100.0\n",
      "Pg[2,0] = 50.0\n",
      "Pg[2,1] = 50.0\n",
      "Pg[2,2] = 50.0\n",
      "Pg[2,3] = 50.0\n",
      "Pg[2,4] = 50.0\n",
      "Pg[2,5] = 50.0\n",
      "Pg[2,6] = 50.0\n"
     ]
    }
   ],
   "metadata": {}
  }
 ],
 "metadata": {
  "orig_nbformat": 4,
  "language_info": {
   "name": "python",
   "version": "3.8.8",
   "mimetype": "text/x-python",
   "codemirror_mode": {
    "name": "ipython",
    "version": 3
   },
   "pygments_lexer": "ipython3",
   "nbconvert_exporter": "python",
   "file_extension": ".py"
  },
  "kernelspec": {
   "name": "python3",
   "display_name": "Python 3.8.8 64-bit ('base': conda)"
  },
  "interpreter": {
   "hash": "695a6c1226bbebc42399e8208982fcf2be558e78489d441a825e948ea5eff13f"
  }
 },
 "nbformat": 4,
 "nbformat_minor": 2
}